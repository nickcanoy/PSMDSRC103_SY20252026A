{
 "cells": [
  {
   "cell_type": "code",
   "execution_count": 2,
   "id": "c03ab9e5-7c62-4c86-824c-1ff967ac0423",
   "metadata": {},
   "outputs": [
    {
     "name": "stdin",
     "output_type": "stream",
     "text": [
      "Enter a number:  7\n"
     ]
    },
    {
     "name": "stdout",
     "output_type": "stream",
     "text": [
      "Even numbers from 0 to 7:\n",
      "0\n",
      "2\n",
      "4\n",
      "6\n"
     ]
    }
   ],
   "source": [
    "#TASK 1 PRINT EVEN NUMBERS\n",
    "\n",
    "# Ask the user to enter a number\n",
    "num = int(input(\"Enter a number: \"))\n",
    "\n",
    "# Print even numbers from 0 up to the entered number\n",
    "print(f\"Even numbers from 0 to {num}:\")\n",
    "for i in range(num + 1):  # Loop from 0 to num (inclusive)\n",
    "    if i % 2 == 0:        # Check if the number is even\n",
    "        print(i)          # Print the even number\n"
   ]
  },
  {
   "cell_type": "code",
   "execution_count": 3,
   "id": "99a808d8-2d27-41a3-bb79-e45f419bde78",
   "metadata": {},
   "outputs": [
    {
     "name": "stdin",
     "output_type": "stream",
     "text": [
      "Enter a number to find its divisors:  12\n"
     ]
    },
    {
     "name": "stdout",
     "output_type": "stream",
     "text": [
      "Divisors of 12:\n",
      "1\n",
      "2\n",
      "3\n",
      "4\n",
      "6\n",
      "12\n"
     ]
    }
   ],
   "source": [
    "#TASK 2 PRINT DIVISOR\n",
    "\n",
    "# Ask the user to enter a number\n",
    "n = int(input(\"Enter a number to find its divisors: \"))\n",
    "\n",
    "# Print all numbers that divide n evenly\n",
    "print(f\"Divisors of {n}:\")\n",
    "for i in range(1, n + 1):  # Loop from 1 to n\n",
    "    if n % i == 0:         # Check if i is a divisor of n\n",
    "        print(i)           # Print the divisor"
   ]
  },
  {
   "cell_type": "code",
   "execution_count": 5,
   "id": "7f650792-df5a-44ed-93b4-16f399a8acf6",
   "metadata": {},
   "outputs": [
    {
     "name": "stdin",
     "output_type": "stream",
     "text": [
      "Enter a number to compute its factorial:  6\n"
     ]
    },
    {
     "name": "stdout",
     "output_type": "stream",
     "text": [
      "Factorial of 6 using for loop: 720\n",
      "Factorial of 6 using while loop: 720\n"
     ]
    }
   ],
   "source": [
    "#TASK 3 FACTORIAL USING LOOPS\n",
    "\n",
    "# Function to compute factorial using a for loop\n",
    "def factorial_for_loop(n):\n",
    "    result = 1\n",
    "    for i in range(1, n + 1):  # Loop from 1 to n\n",
    "        result *= i            # Multiply result by i\n",
    "    return result\n",
    "    \n",
    "# Function to compute factorial using a while loop\n",
    "def factorial_while_loop(n):\n",
    "    result = 1\n",
    "    i = 1\n",
    "    while i <= n:              # Loop while i is less than or equal to n\n",
    "        result *= i            # Multiply result by i\n",
    "        i += 1                 # Increment i\n",
    "    return result\n",
    "    \n",
    "# Ask the user to enter a number\n",
    "n = int(input(\"Enter a number to compute its factorial: \"))\n",
    "\n",
    "# Print the factorial using both methods\n",
    "print(f\"Factorial of {n} using for loop: {factorial_for_loop(n)}\")\n",
    "print(f\"Factorial of {n} using while loop: {factorial_while_loop(n)}\")\n",
    "\n"
   ]
  },
  {
   "cell_type": "code",
   "execution_count": null,
   "id": "ec89c161-04de-4849-a0d1-6ae3a6975fce",
   "metadata": {},
   "outputs": [],
   "source": []
  }
 ],
 "metadata": {
  "kernelspec": {
   "display_name": "Python [conda env:base] *",
   "language": "python",
   "name": "conda-base-py"
  },
  "language_info": {
   "codemirror_mode": {
    "name": "ipython",
    "version": 3
   },
   "file_extension": ".py",
   "mimetype": "text/x-python",
   "name": "python",
   "nbconvert_exporter": "python",
   "pygments_lexer": "ipython3",
   "version": "3.13.5"
  }
 },
 "nbformat": 4,
 "nbformat_minor": 5
}
