{
 "cells": [
  {
   "cell_type": "code",
   "execution_count": 4,
   "id": "1c2b57d4-67f4-49ce-9e8c-793ca1dee261",
   "metadata": {},
   "outputs": [
    {
     "name": "stdout",
     "output_type": "stream",
     "text": [
      "🌤️ Weather Monitoring System 🌡️\n",
      "Select conversion type:\n",
      "1. Celsius to Fahrenheit\n",
      "2. Fahrenheit to Celsius\n",
      "3. Celsius to Kelvin\n"
     ]
    },
    {
     "name": "stdin",
     "output_type": "stream",
     "text": [
      "Enter your choice (1/2/3):  1\n",
      "Enter the temperature value:  37\n"
     ]
    },
    {
     "name": "stdout",
     "output_type": "stream",
     "text": [
      "37.0°C is 98.60°F\n"
     ]
    }
   ],
   "source": [
    "#EXERCISE 1: Weather Monitoring System\n",
    "\n",
    "# Task 1: Convert Celsius to Fahrenheit\n",
    "def celsius_to_fahrenheit(celsius):\n",
    "    return (celsius * 9/5) + 32\n",
    "\n",
    "# Task 2: Convert Fahrenheit to Celsius\n",
    "def fahrenheit_to_celsius(fahrenheit):\n",
    "    return (fahrenheit - 32) * 5/9\n",
    "\n",
    "# Task 3: Convert Celsius to Kelvin\n",
    "def celsius_to_kelvin(celsius):\n",
    "    return celsius + 273.15\n",
    "\n",
    "# Task 4: Main program for user interaction\n",
    "def main():\n",
    "    print(\"🌤️ Weather Monitoring System 🌡️\")\n",
    "    print(\"Select conversion type:\")\n",
    "    print(\"1. Celsius to Fahrenheit\")\n",
    "    print(\"2. Fahrenheit to Celsius\")\n",
    "    print(\"3. Celsius to Kelvin\")\n",
    "\n",
    "    choice = input(\"Enter your choice (1/2/3): \")\n",
    "\n",
    "    try:\n",
    "        temp = float(input(\"Enter the temperature value: \"))\n",
    "    except ValueError:\n",
    "        print(\"Invalid temperature input. Please enter a numeric value.\")\n",
    "        return\n",
    "\n",
    "    if choice == '1':\n",
    "        result = celsius_to_fahrenheit(temp)\n",
    "        print(f\"{temp}°C is {result:.2f}°F\")\n",
    "    elif choice == '2':\n",
    "        result = fahrenheit_to_celsius(temp)\n",
    "        print(f\"{temp}°F is {result:.2f}°C\")\n",
    "    elif choice == '3':\n",
    "        result = celsius_to_kelvin(temp)\n",
    "        print(f\"{temp}°C is {result:.2f}K\")\n",
    "    else:\n",
    "        print(\"Invalid choice. Please select 1, 2, or 3.\")\n",
    "\n",
    "# Run the program\n",
    "if __name__ == \"__main__\":\n",
    "    main()\n"
   ]
  },
  {
   "cell_type": "code",
   "execution_count": 6,
   "id": "f8edb7c7-5631-40eb-80a5-e266e01a738c",
   "metadata": {},
   "outputs": [
    {
     "name": "stdout",
     "output_type": "stream",
     "text": [
      "Welcome to the Text-Based Adventure Game!\n"
     ]
    },
    {
     "name": "stdin",
     "output_type": "stream",
     "text": [
      "Enter your command:  Taco Cat\n"
     ]
    },
    {
     "name": "stdout",
     "output_type": "stream",
     "text": [
      "\n",
      " Puzzle Check:\n",
      "Reversed Command: taC ocaT\n",
      "\n",
      " Secret Door Check:\n",
      "Your command is a palindrome! The secret door unlocks!\n",
      "\n",
      " Spell Strength Check:\n",
      "Your spell contains 3 vowel(s). Strength level: 30\n"
     ]
    }
   ],
   "source": [
    "#EXERCISE 2: Text-Based Game Development\n",
    "\n",
    "# Task 1: Reverse the player's command\n",
    "def reverse_command(command):\n",
    "    return command[::-1]\n",
    "\n",
    "# Task 2: Check if the command is a palindrome\n",
    "def is_palindrome(command):\n",
    "    cleaned = command.replace(\" \", \"\").lower()\n",
    "    return cleaned == cleaned[::-1]\n",
    "\n",
    "# Task 3: Count vowels in the command\n",
    "def count_vowels(command):\n",
    "    vowels = \"aeiouAEIOU\"\n",
    "    return sum(1 for char in command if char in vowels)\n",
    "\n",
    "# Task 4: Main program to simulate player interaction\n",
    "def main():\n",
    "    print(\"Welcome to the Text-Based Adventure Game!\")\n",
    "    command = input(\"Enter your command: \")\n",
    "\n",
    "    print(\"\\n Puzzle Check:\")\n",
    "    reversed_cmd = reverse_command(command)\n",
    "    print(f\"Reversed Command: {reversed_cmd}\")\n",
    "\n",
    "    print(\"\\n Secret Door Check:\")\n",
    "    if is_palindrome(command):\n",
    "        print(\"Your command is a palindrome! The secret door unlocks!\")\n",
    "    else:\n",
    "        print(\"Not a palindrome. The door remains closed.\")\n",
    "\n",
    "    print(\"\\n Spell Strength Check:\")\n",
    "    vowel_count = count_vowels(command)\n",
    "    print(f\"Your spell contains {vowel_count} vowel(s). Strength level: {vowel_count * 10}\")\n",
    "\n",
    "# Run the game\n",
    "if __name__ == \"__main__\":\n",
    "    main()\n"
   ]
  },
  {
   "cell_type": "code",
   "execution_count": 7,
   "id": "2abed353-e115-463e-b41c-65df7f40f4bf",
   "metadata": {},
   "outputs": [
    {
     "name": "stdout",
     "output_type": "stream",
     "text": [
      "Personal Finance Manager\n"
     ]
    },
    {
     "name": "stdin",
     "output_type": "stream",
     "text": [
      "Enter your total income:  50000\n",
      "Enter your total expenses:  48000\n"
     ]
    },
    {
     "name": "stdout",
     "output_type": "stream",
     "text": [
      "\n",
      " Summary:\n",
      "Income: $50000.00\n",
      "Expenses: $48000.00\n",
      "Remaining Balance: $2000.00\n",
      "Good job! You're within your budget.\n"
     ]
    }
   ],
   "source": [
    "#EXERCISE 3: Personal Finance Manager\n",
    "\n",
    "# Task 1: Add income to total balance\n",
    "def add_income(income, total):\n",
    "    return total + income\n",
    "\n",
    "# Task 2: Subtract expense from total balance\n",
    "def subtract_expense(expense, total):\n",
    "    return total - expense\n",
    "\n",
    "# Task 3: Calculate remaining balance\n",
    "def calculate_balance(income, expenses):\n",
    "    return income - expenses\n",
    "\n",
    "# Task 4: Main program for user interaction\n",
    "def main():\n",
    "    print(\"Personal Finance Manager\")\n",
    "    \n",
    "    try:\n",
    "        income = float(input(\"Enter your total income: \"))\n",
    "        expenses = float(input(\"Enter your total expenses: \"))\n",
    "    except ValueError:\n",
    "        print(\"Invalid input. Please enter numeric values.\")\n",
    "        return\n",
    "\n",
    "    total_balance = calculate_balance(income, expenses)\n",
    "\n",
    "    print(f\"\\n Summary:\")\n",
    "    print(f\"Income: ${income:.2f}\")\n",
    "    print(f\"Expenses: ${expenses:.2f}\")\n",
    "    print(f\"Remaining Balance: ${total_balance:.2f}\")\n",
    "\n",
    "    if expenses > income:\n",
    "        print(\"Warning: Your expenses exceed your income!\")\n",
    "    else:\n",
    "        print(\"Good job! You're within your budget.\")\n",
    "\n",
    "# Run the program\n",
    "if __name__ == \"__main__\":\n",
    "    main()\n"
   ]
  },
  {
   "cell_type": "code",
   "execution_count": 8,
   "id": "3808464d-c3d3-4a8e-aab4-223dcd14812c",
   "metadata": {},
   "outputs": [
    {
     "name": "stdout",
     "output_type": "stream",
     "text": [
      "Event Planning System\n"
     ]
    },
    {
     "name": "stdin",
     "output_type": "stream",
     "text": [
      "Enter the number of events:  2\n",
      "Enter number of guests for event 1:  50\n",
      "Enter number of guests for event 2:  20\n"
     ]
    },
    {
     "name": "stdout",
     "output_type": "stream",
     "text": [
      "\n",
      " Event Summary:\n",
      "Event 1:\n",
      "  Guests: 50\n",
      "  Seating Arrangements (factorial): 30414093201713378043612608166064768844377641568960512000000000000\n",
      "  Priority (Fibonacci): 1\n",
      "Event 2:\n",
      "  Guests: 20\n",
      "  Seating Arrangements (factorial): 2432902008176640000\n",
      "  Priority (Fibonacci): 1\n",
      "\n",
      " Total Guests Across All Events: 70\n"
     ]
    }
   ],
   "source": [
    "#EXERCISE 4: Event Planning System\n",
    "\n",
    "# Task 1: Recursive factorial function\n",
    "def factorial(n):\n",
    "    if n == 0 or n == 1:\n",
    "        return 1\n",
    "    else:\n",
    "        return n * factorial(n - 1)\n",
    "\n",
    "# Task 2: Recursive Fibonacci function\n",
    "def fibonacci(n):\n",
    "    if n <= 0:\n",
    "        return 0\n",
    "    elif n == 1:\n",
    "        return 1\n",
    "    else:\n",
    "        return fibonacci(n - 1) + fibonacci(n - 2)\n",
    "\n",
    "# Task 3: Sum total guests across multiple events\n",
    "def total_guests(events):\n",
    "    return sum(events)\n",
    "\n",
    "# Task 4: Main program for event planner\n",
    "def main():\n",
    "    print(\"Event Planning System\")\n",
    "    \n",
    "    try:\n",
    "        num_events = int(input(\"Enter the number of events: \"))\n",
    "        guest_list = []\n",
    "\n",
    "        for i in range(num_events):\n",
    "            guests = int(input(f\"Enter number of guests for event {i + 1}: \"))\n",
    "            guest_list.append(guests)\n",
    "\n",
    "    except ValueError:\n",
    "        print(\"Invalid input. Please enter numeric values.\")\n",
    "        return\n",
    "\n",
    "    print(\"\\n Event Summary:\")\n",
    "    for i, guests in enumerate(guest_list):\n",
    "        arrangements = factorial(guests)\n",
    "        priority = fibonacci(i + 1)\n",
    "        print(f\"Event {i + 1}:\")\n",
    "        print(f\"  Guests: {guests}\")\n",
    "        print(f\"  Seating Arrangements (factorial): {arrangements}\")\n",
    "        print(f\"  Priority (Fibonacci): {priority}\")\n",
    "\n",
    "    total = total_guests(guest_list)\n",
    "    print(f\"\\n Total Guests Across All Events: {total}\")\n",
    "\n",
    "# Run the program\n",
    "if __name__ == \"__main__\":\n",
    "    main()\n"
   ]
  },
  {
   "cell_type": "code",
   "execution_count": 10,
   "id": "4be59d68-7113-4374-ba38-57183b9c707d",
   "metadata": {},
   "outputs": [
    {
     "name": "stdout",
     "output_type": "stream",
     "text": [
      "Inventory Management System\n"
     ]
    },
    {
     "name": "stdin",
     "output_type": "stream",
     "text": [
      "Enter the number of products:  3\n",
      "\n",
      "Enter name of product 1:  Vinyl Toy\n",
      "Enter price of Vinyl Toy:  600\n",
      "Enter stock quantity of Vinyl Toy:  10\n",
      "\n",
      "Enter name of product 2:  Keychain\n",
      "Enter price of Keychain:  100\n",
      "Enter stock quantity of Keychain:  50\n",
      "\n",
      "Enter name of product 3:  Phone Charm\n",
      "Enter price of Phone Charm:  50\n",
      "Enter stock quantity of Phone Charm:  100\n"
     ]
    },
    {
     "name": "stdout",
     "output_type": "stream",
     "text": [
      "\n",
      " Inventory Analysis:\n",
      "Most expensive product: Vinyl Toy ($600.00)\n",
      "Product with lowest stock: Vinyl Toy (Stock: 10)\n",
      "Average product price: $250.00\n",
      "\n",
      " Products in stock:\n",
      "- Vinyl Toy (Price: $600.00, Stock: 10)\n",
      "- Keychain (Price: $100.00, Stock: 50)\n",
      "- Phone Charm (Price: $50.00, Stock: 100)\n"
     ]
    }
   ],
   "source": [
    "#EXERCISE 5: Inventory Management System\n",
    "\n",
    "# Task 1: Find the most expensive product\n",
    "def find_max_price(products):\n",
    "    return max(products, key=lambda x: x['price'])\n",
    "\n",
    "# Task 2: Find the product with the lowest stock\n",
    "def find_min_stock(products):\n",
    "    return min(products, key=lambda x: x['stock'])\n",
    "\n",
    "# Task 3: Calculate the average price of all products\n",
    "def average_price(products):\n",
    "    total_price = sum(product['price'] for product in products)\n",
    "    return total_price / len(products) if products else 0\n",
    "\n",
    "# Task 4: Remove products with zero stock\n",
    "def remove_out_of_stock(products):\n",
    "    return [product for product in products if product['stock'] > 0]\n",
    "\n",
    "# Task 5: Main program for inventory management\n",
    "def main():\n",
    "    print(\"Inventory Management System\")\n",
    "    products = []\n",
    "\n",
    "    try:\n",
    "        num_products = int(input(\"Enter the number of products: \"))\n",
    "        for i in range(num_products):\n",
    "            name = input(f\"\\nEnter name of product {i + 1}: \")\n",
    "            price = float(input(f\"Enter price of {name}: \"))\n",
    "            stock = int(input(f\"Enter stock quantity of {name}: \"))\n",
    "            products.append({'name': name, 'price': price, 'stock': stock})\n",
    "    except ValueError:\n",
    "        print(\"Invalid input. Please enter numeric values for price and stock.\")\n",
    "        return\n",
    "\n",
    "    print(\"\\n Inventory Analysis:\")\n",
    "    max_price_product = find_max_price(products)\n",
    "    print(f\"Most expensive product: {max_price_product['name']} (${max_price_product['price']:.2f})\")\n",
    "\n",
    "    min_stock_product = find_min_stock(products)\n",
    "    print(f\"Product with lowest stock: {min_stock_product['name']} (Stock: {min_stock_product['stock']})\")\n",
    "\n",
    "    avg_price = average_price(products)\n",
    "    print(f\"Average product price: ${avg_price:.2f}\")\n",
    "\n",
    "    updated_inventory = remove_out_of_stock(products)\n",
    "    print(\"\\n Products in stock:\")\n",
    "    for product in updated_inventory:\n",
    "        print(f\"- {product['name']} (Price: ${product['price']:.2f}, Stock: {product['stock']})\")\n",
    "\n",
    "# Run the program\n",
    "if __name__ == \"__main__\":\n",
    "    main()\n"
   ]
  },
  {
   "cell_type": "code",
   "execution_count": null,
   "id": "6b0f9117-1699-49d9-ba12-39ede994d38e",
   "metadata": {},
   "outputs": [],
   "source": []
  }
 ],
 "metadata": {
  "kernelspec": {
   "display_name": "Python [conda env:base] *",
   "language": "python",
   "name": "conda-base-py"
  },
  "language_info": {
   "codemirror_mode": {
    "name": "ipython",
    "version": 3
   },
   "file_extension": ".py",
   "mimetype": "text/x-python",
   "name": "python",
   "nbconvert_exporter": "python",
   "pygments_lexer": "ipython3",
   "version": "3.13.5"
  }
 },
 "nbformat": 4,
 "nbformat_minor": 5
}
